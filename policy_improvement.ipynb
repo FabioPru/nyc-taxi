{
 "cells": [
  {
   "cell_type": "code",
   "execution_count": 8,
   "metadata": {
    "ExecuteTime": {
     "end_time": "2020-11-29T11:13:06.171345Z",
     "start_time": "2020-11-29T11:13:06.168268Z"
    }
   },
   "outputs": [],
   "source": [
    "from src.graph import *\n",
    "from src.mdp import *\n",
    "from src.policy import *\n",
    "from src.nyc import *\n",
    "\n",
    "import matplotlib.pyplot as plt\n",
    "import numpy as np\n",
    "import sklearn"
   ]
  },
  {
   "cell_type": "markdown",
   "metadata": {},
   "source": [
    "In this notebook we attempt to perform a policy improvement algorithm for our MDP. Rather than starting with a random policy (zero value functions), we start from the greedy policy we previously defined to get faster convergence"
   ]
  },
  {
   "cell_type": "code",
   "execution_count": 2,
   "metadata": {
    "ExecuteTime": {
     "end_time": "2020-11-29T10:20:37.964911Z",
     "start_time": "2020-11-29T10:20:37.962754Z"
    }
   },
   "outputs": [],
   "source": [
    "mdp = MDP['nyc']\n",
    "pi_0 = policy_greedy(mdp)"
   ]
  },
  {
   "cell_type": "markdown",
   "metadata": {},
   "source": [
    "The hardest part of policy iteration is of course policy evaluation. In this step we must approximate for the previous policy $\\pi_{k-1}$ a value function $V_{\\pi_{k-1}}(s) \\rightarrow \\mathbb{R}$ that gives approximate expected rewards for every state. This is done in the course using the Bellman equations\n",
    "\\[V_{\\pi_{k-1}}(s) = \\sum r(s, a) + \\gamma T(s, a, s')V(s')\\]\n",
    "which you can either (1) solve directly as a system of linear equations or (2) approximate iteratively. Either approach would be daunting in this case for two reasons:\n",
    "\n",
    "* Our state space is exponentially large in the number of available drivers. In the nyc case we have approx $60^{15}$ states which is clearly too many to compute values for each\n",
    "* As this is a reinforcement learning setting, we do not know the transition function of the new rides coming in. In fact they may not even be fully Markov (dependence between one ride and the next), but this is another story."
   ]
  },
  {
   "cell_type": "markdown",
   "metadata": {},
   "source": [
    "### Our solution"
   ]
  },
  {
   "cell_type": "markdown",
   "metadata": {},
   "source": [
    "We do this by approximating $V_{\\pi_{k-1}}$ with a model $\\hat V$ and fitting it on sample data. We first use a linear model, then a neural network. We make the simplification of only looking $t$ steps in the future rather than using discounting, and let successive iterations of policy improvement reach convergence. So we fit\n",
    "\n",
    "\\[V_{\\pi_{k-1}}(s) \\approx \\hat V (s)\\approx r(s, a) + \\gamma r(s', a') + \\gamma^2(r'', a'') + \\dots + \\gamma^t r(s^{(t)}, a^{(t)})\\]\n",
    "\n",
    "the RHS is approximately $r(s, a) + \\gamma T(s, a, s')V(s')$, where $[s, a, s', a', \\dots]$ is an episode we experience following policy $\\pi_{k-1}$. We experiment with different values of $t$ to see what leads to good enough convergence."
   ]
  },
  {
   "cell_type": "markdown",
   "metadata": {},
   "source": [
    "#### Building the training set (s, V(s)) for our model"
   ]
  },
  {
   "cell_type": "code",
   "execution_count": 2,
   "metadata": {
    "ExecuteTime": {
     "end_time": "2020-11-29T11:10:46.079223Z",
     "start_time": "2020-11-29T11:10:46.071736Z"
    }
   },
   "outputs": [],
   "source": [
    "def get_training_set(policy, mdp, no_iter=1000, no_ep=50, t=3, gamma=0.9):\n",
    "    '''Generates a set of samples (s, V(s)) for the given policy\n",
    "    no_iter: how many s in the training set\n",
    "    no_episodes: how many episodes to run for each s to approximate V(s)\n",
    "    t: lookforward window in the future\n",
    "    '''\n",
    "    \n",
    "    samples = []\n",
    "    for _ in range(no_iter):\n",
    "        s = mdp.get_starting_state()\n",
    "        avg_rw = 0\n",
    "        \n",
    "        for __ in range(no_ep):\n",
    "            # Generate an episode and sum up the discounted rewards\n",
    "            cur_s = s\n",
    "            rw = 0\n",
    "            for ____ in range(t):\n",
    "                a = policy(cur_s)\n",
    "                rw = rw * gamma + mdp.R(cur_s, a)\n",
    "                cur_s = mdp.T(cur_s, a)\n",
    "            avg_rw += rw / no_ep\n",
    "        \n",
    "        samples.append((s, avg_rw))\n",
    "    return samples\n",
    "\n",
    "# For details on our efficient representation of a state as a (N,) shaped array,\n",
    "#     please consult src/mdp.py\n",
    "\n",
    "def get_arrays(policy, mdp, no_iter=1000, no_ep=10, t=3, gamma=0.9):\n",
    "    \n",
    "    samples = get_training_set(policy, mdp, no_iter=no_iter, \n",
    "                               no_ep=no_ep, t=t, gamma=gamma)\n",
    "    y = np.array([s[1] for s in samples])\n",
    "    X = np.vstack([s[0].to_array(mdp) for s in samples])\n",
    "    return X, y"
   ]
  },
  {
   "cell_type": "code",
   "execution_count": 19,
   "metadata": {
    "ExecuteTime": {
     "end_time": "2020-11-29T10:29:27.819979Z",
     "start_time": "2020-11-29T10:27:43.448521Z"
    }
   },
   "outputs": [],
   "source": [
    "X, y = get_arrays(pi_0, mdp, 100000)\n",
    "X_ts, y_ts = get_arrays(pi_0, mdp, 10000)"
   ]
  },
  {
   "cell_type": "code",
   "execution_count": 20,
   "metadata": {
    "ExecuteTime": {
     "end_time": "2020-11-29T10:29:27.824661Z",
     "start_time": "2020-11-29T10:29:27.821542Z"
    }
   },
   "outputs": [
    {
     "data": {
      "text/plain": [
       "((100000, 64), (100000,))"
      ]
     },
     "execution_count": 20,
     "metadata": {},
     "output_type": "execute_result"
    }
   ],
   "source": [
    "X.shape, y.shape"
   ]
  },
  {
   "cell_type": "code",
   "execution_count": 22,
   "metadata": {
    "ExecuteTime": {
     "end_time": "2020-11-29T10:31:33.661731Z",
     "start_time": "2020-11-29T10:31:33.429979Z"
    }
   },
   "outputs": [],
   "source": [
    "# Save to data folder for later use\n",
    "for st, ar in [('X', X), ('y', y), ('X_ts', X_ts), ('y_ts', y_ts)]:\n",
    "    np.save('data/'+st+'.npy', ar)"
   ]
  },
  {
   "cell_type": "markdown",
   "metadata": {},
   "source": [
    "#### Fitting estimators and generating the new policy"
   ]
  },
  {
   "cell_type": "code",
   "execution_count": 45,
   "metadata": {
    "ExecuteTime": {
     "end_time": "2020-11-29T12:09:55.972202Z",
     "start_time": "2020-11-29T12:09:55.936324Z"
    }
   },
   "outputs": [],
   "source": [
    "# Loading training and test data from file\n",
    "X = np.load('data/X.npy')\n",
    "y = np.load('data/y.npy')\n",
    "X_ts = np.load('data/X_ts.npy')\n",
    "y_ts = np.load('data/y_ts.npy')"
   ]
  },
  {
   "cell_type": "code",
   "execution_count": 29,
   "metadata": {
    "ExecuteTime": {
     "end_time": "2020-11-29T10:34:59.517682Z",
     "start_time": "2020-11-29T10:34:59.187613Z"
    }
   },
   "outputs": [
    {
     "name": "stdout",
     "output_type": "stream",
     "text": [
      "Train R2: 0.3002199162223307\n",
      "Test R2:  0.255204547161746\n"
     ]
    }
   ],
   "source": [
    "from sklearn.linear_model import LinearRegression\n",
    "\n",
    "# Try how well a Linear model is doing\n",
    "m = LinearRegression()\n",
    "print(\"Train R2:\", m.fit(X, y).score(X, y))\n",
    "print(\"Test R2: \", m.fit(X, y).score(X_ts, y_ts))"
   ]
  },
  {
   "cell_type": "code",
   "execution_count": null,
   "metadata": {},
   "outputs": [],
   "source": [
    "# I like this, not overfitting too badly, much better performance than random\n",
    "#   this is great!"
   ]
  },
  {
   "cell_type": "code",
   "execution_count": 58,
   "metadata": {
    "ExecuteTime": {
     "end_time": "2020-11-29T12:17:05.294965Z",
     "start_time": "2020-11-29T12:15:15.575073Z"
    }
   },
   "outputs": [
    {
     "data": {
      "text/plain": [
       "MLPRegressor(activation='relu', alpha=0.0001, batch_size='auto', beta_1=0.9,\n",
       "             beta_2=0.999, early_stopping=False, epsilon=1e-08,\n",
       "             hidden_layer_sizes=(30, 20, 15), learning_rate='constant',\n",
       "             learning_rate_init=0.001, max_iter=200, momentum=0.9,\n",
       "             n_iter_no_change=10, nesterovs_momentum=True, power_t=0.5,\n",
       "             random_state=None, shuffle=True, solver='adam', tol=0.0001,\n",
       "             validation_fraction=0.1, verbose=False, warm_start=False)"
      ]
     },
     "execution_count": 58,
     "metadata": {},
     "output_type": "execute_result"
    }
   ],
   "source": [
    "# Try a Neural Network instead\n",
    "from sklearn.preprocessing import StandardScaler\n",
    "from sklearn.neural_network import MLPRegressor\n",
    "\n",
    "scale_X = StandardScaler().fit(X)\n",
    "X_s = scale_X.transform(X)\n",
    "X_s_ts = scale_X.transform(X_ts)\n",
    "\n",
    "n = MLPRegressor(hidden_layer_sizes=(30, 20, 15), activation=\"relu\", max_iter=200)\n",
    "n.fit(X_s, -y)"
   ]
  },
  {
   "cell_type": "code",
   "execution_count": 59,
   "metadata": {
    "ExecuteTime": {
     "end_time": "2020-11-29T12:17:05.418112Z",
     "start_time": "2020-11-29T12:17:05.297643Z"
    }
   },
   "outputs": [
    {
     "name": "stdout",
     "output_type": "stream",
     "text": [
      "Train R2: 0.36368992958561164\n",
      "Test R2:  0.2698395935997815\n"
     ]
    }
   ],
   "source": [
    "print(\"Train R2:\", n.score(X_s, -y))\n",
    "print(\"Test R2: \", n.score(X_s_ts, -y_ts))"
   ]
  },
  {
   "cell_type": "code",
   "execution_count": null,
   "metadata": {},
   "outputs": [],
   "source": [
    "# Better! But need to do more hyperparameter tuning..."
   ]
  },
  {
   "cell_type": "code",
   "execution_count": 63,
   "metadata": {
    "ExecuteTime": {
     "end_time": "2020-11-29T12:20:24.291970Z",
     "start_time": "2020-11-29T12:20:24.285390Z"
    }
   },
   "outputs": [],
   "source": [
    "def gen_Vhat(estimator, mdp):\n",
    "    def Vhat(s):\n",
    "        '''Return approximation of V by the estimator'''\n",
    "        return estimator.predict(s.to_array(mdp).reshape(1, -1))[0]\n",
    "    return Vhat\n",
    "\n",
    "def gen_Vhat_nn(net, scaler, mdp):\n",
    "    def Vhat(s):\n",
    "        X_s = scaler.transform(s.to_array(mdp).reshape(1, -1))\n",
    "        return -net.predict(X_s)[0]\n",
    "    return Vhat\n",
    "\n",
    "def policy_improvement(pi, Vhat, mdp, gamma=0.9):\n",
    "    '''Return a policy that selects a that maximizes r(s, a) + gamma Vhat(s')'''\n",
    "    def C(s, a):\n",
    "        #print(\"Wd be\", mdp.C(s, a), \" now is \", mdp.C(s, a) - gamma * Vhat(mdp.T(s, a)))\n",
    "        return mdp.C(s, a) - gamma * Vhat(mdp.T(s, a))\n",
    "    def fn(s):\n",
    "        mincost = 9999999\n",
    "        besta = None\n",
    "        for a in range(s.K):\n",
    "            cs = C(s, a)\n",
    "            if cs < mincost:\n",
    "                mincost = cs\n",
    "                besta = a\n",
    "        return besta\n",
    "    return Policy(fn)"
   ]
  },
  {
   "cell_type": "code",
   "execution_count": 107,
   "metadata": {
    "ExecuteTime": {
     "end_time": "2020-11-29T11:01:38.107705Z",
     "start_time": "2020-11-29T11:01:37.927902Z"
    }
   },
   "outputs": [],
   "source": [
    "Vhat_0 = gen_Vhat(LinearRegression().fit(X, y), mdp)\n",
    "pi_1 = policy_improvement(pi_0, Vhat_0, mdp)"
   ]
  },
  {
   "cell_type": "markdown",
   "metadata": {},
   "source": [
    "#### Evaluating the new pi_1"
   ]
  },
  {
   "cell_type": "code",
   "execution_count": 108,
   "metadata": {
    "ExecuteTime": {
     "end_time": "2020-11-29T11:01:39.175523Z",
     "start_time": "2020-11-29T11:01:39.163927Z"
    },
    "scrolled": true
   },
   "outputs": [
    {
     "data": {
      "text/plain": [
       "(10, 10)"
      ]
     },
     "execution_count": 108,
     "metadata": {},
     "output_type": "execute_result"
    }
   ],
   "source": [
    "# We have a new pi_1 which mostly predicts the same things as pi_0 = greedy_policy\n",
    "s = mdp.get_starting_state()\n",
    "pi_1(s), pi_0(s)"
   ]
  },
  {
   "cell_type": "code",
   "execution_count": 109,
   "metadata": {
    "ExecuteTime": {
     "end_time": "2020-11-29T11:01:41.586556Z",
     "start_time": "2020-11-29T11:01:40.920462Z"
    }
   },
   "outputs": [
    {
     "name": "stdout",
     "output_type": "stream",
     "text": [
      "Out of 100 tries, pi_1(s) != pi_0(s) in 26 of them\n"
     ]
    }
   ],
   "source": [
    "tries = 100\n",
    "different = 0\n",
    "for _ in range(tries):\n",
    "    s = mdp.get_starting_state()\n",
    "    if pi_1(s) != pi_0(s):\n",
    "        different += 1\n",
    "print(\"Out of\", tries, \"tries, pi_1(s) != pi_0(s) in\", different, \"of them\")"
   ]
  },
  {
   "cell_type": "code",
   "execution_count": 110,
   "metadata": {
    "ExecuteTime": {
     "end_time": "2020-11-29T11:08:51.053718Z",
     "start_time": "2020-11-29T11:01:45.355207Z"
    }
   },
   "outputs": [
    {
     "name": "stdout",
     "output_type": "stream",
     "text": [
      "pi_0 avg waiting time (loss): 38.9 pct trip time\n",
      "pi_0 avg waiting time (loss): 36.18 pct trip time\n"
     ]
    }
   ],
   "source": [
    "no_eval = 50000\n",
    "print(\"pi_0 avg waiting time (loss):\", round(mdp.eval(pi_0, no_iter=10*no_eval, return_pct_trip=True), 2), \"pct trip time\")\n",
    "print(\"pi_1 avg waiting time (loss):\", round(mdp.eval(pi_1, no_iter=no_eval, return_pct_trip=True), 2), \"pct trip time\")"
   ]
  },
  {
   "cell_type": "markdown",
   "metadata": {},
   "source": [
    "#### With a NN instead"
   ]
  },
  {
   "cell_type": "code",
   "execution_count": 65,
   "metadata": {
    "ExecuteTime": {
     "end_time": "2020-11-29T12:21:19.570096Z",
     "start_time": "2020-11-29T12:21:19.567645Z"
    }
   },
   "outputs": [],
   "source": [
    "Vhat_0_nn = gen_Vhat_nn(n, scale_X, mdp)\n",
    "pi_1_nn = policy_improvement(pi_0, Vhat_0_nn, mdp)"
   ]
  },
  {
   "cell_type": "code",
   "execution_count": 72,
   "metadata": {
    "ExecuteTime": {
     "end_time": "2020-11-29T12:24:40.450349Z",
     "start_time": "2020-11-29T12:23:48.082253Z"
    }
   },
   "outputs": [
    {
     "name": "stdout",
     "output_type": "stream",
     "text": [
      "pi_1_nn avg waiting time (loss): 29.15 pct trip time\n"
     ]
    }
   ],
   "source": [
    "no_eval = 5000\n",
    "print(\"pi_1_nn avg waiting time (loss):\", round(mdp.eval(pi_1_nn, no_iter=no_eval, return_pct_trip=True), 2), \"pct trip time\")"
   ]
  },
  {
   "cell_type": "markdown",
   "metadata": {},
   "source": [
    "#### Putting this all together"
   ]
  },
  {
   "cell_type": "code",
   "execution_count": 16,
   "metadata": {
    "ExecuteTime": {
     "end_time": "2020-11-29T11:17:46.019397Z",
     "start_time": "2020-11-29T11:17:46.015301Z"
    }
   },
   "outputs": [],
   "source": [
    "def get_new_pi(pi, mdp, estimator, gamma=0.9,\n",
    "               no_iter=1000, no_ep=10, t=3):\n",
    "    '''Generates pi_k+1 from pi_k using policy improvement.\n",
    "    Other parameters are used to generate the training set for the estimator.\n",
    "    Please make sure your estimator does not have warm_start=True.\n",
    "    '''\n",
    "    \n",
    "    X, y = get_arrays(pi, mdp, no_iter=no_iter, no_ep=no_ep, t=t, gamma=gamma)\n",
    "    model = sklearn.base.clone(estimator).fit(X, y)\n",
    "    Vh = gen_Vhat(model, mdp=mdp)\n",
    "    return policy_improvement(pi, Vh, mdp=mdp, gamma=0.9)"
   ]
  },
  {
   "cell_type": "code",
   "execution_count": 39,
   "metadata": {
    "ExecuteTime": {
     "end_time": "2020-11-29T11:56:37.969544Z",
     "start_time": "2020-11-29T11:47:01.436519Z"
    }
   },
   "outputs": [
    {
     "name": "stdout",
     "output_type": "stream",
     "text": [
      "Evaluating\n"
     ]
    }
   ],
   "source": [
    "from sklearn.linear_model import LinearRegression\n",
    "\n",
    "# Try this out multiple times starting from random policy\n",
    "mdp = MDP['nyc']\n",
    "pi = {0: policy_random}\n",
    "ks = 10\n",
    "\n",
    "for k in range(ks):\n",
    "    pi[k + 1] = get_new_pi(pi[k], mdp, LinearRegression(), no_iter=5000, no_ep=1, t=1)\n",
    "    #print(\"Iteration done\")\n",
    "\n",
    "print(\"Evaluating\")\n",
    "evals = [mdp.eval(pi[k], no_iter=3000, return_pct_trip=True) for k in range(ks+1)]"
   ]
  },
  {
   "cell_type": "code",
   "execution_count": 43,
   "metadata": {
    "ExecuteTime": {
     "end_time": "2020-11-29T12:01:47.056164Z",
     "start_time": "2020-11-29T12:01:46.929784Z"
    }
   },
   "outputs": [
    {
     "data": {
      "image/png": "[encoded data removed]",
      "text/plain": [
       "<Figure size 576x288 with 1 Axes>"
      ]
     },
     "metadata": {
      "needs_background": "light"
     },
     "output_type": "display_data"
    }
   ],
   "source": [
    "lb = range(5)\n",
    "\n",
    "plt.figure(figsize=(8, 4))\n",
    "\n",
    "plt.bar(lb, evals[:5], color='#557f2d')\n",
    "plt.xlabel(\"Iteration no\")\n",
    "plt.ylabel(\"Loss (in pct trip time)\")\n",
    "plt.title(\"Successive runs of policy iteration, random starting policy\")\n",
    "\n",
    "plt.xticks(lb, lb)\n",
    "\n",
    "plt.savefig(\"img/iterations.png\")"
   ]
  },
  {
   "cell_type": "code",
   "execution_count": null,
   "metadata": {},
   "outputs": [],
   "source": []
  }
 ],
 "metadata": {
  "kernelspec": {
   "display_name": "Python 3",
   "language": "python",
   "name": "python3"
  },
  "language_info": {
   "codemirror_mode": {
    "name": "ipython",
    "version": 3
   },
   "file_extension": ".py",
   "mimetype": "text/x-python",
   "name": "python",
   "nbconvert_exporter": "python",
   "pygments_lexer": "ipython3",
   "version": "3.7.4"
  },
  "latex_envs": {
   "LaTeX_envs_menu_present": true,
   "autoclose": true,
   "autocomplete": true,
   "bibliofile": "biblio.bib",
   "cite_by": "apalike",
   "current_citInitial": 1,
   "eqLabelWithNumbers": true,
   "eqNumInitial": 1,
   "hotkeys": {
    "equation": "Ctrl-E",
    "itemize": "Ctrl-I"
   },
   "labels_anchors": false,
   "latex_user_defs": false,
   "report_style_numbering": false,
   "user_envs_cfg": false
  },
  "nbTranslate": {
   "displayLangs": [
    "*"
   ],
   "hotkey": "alt-t",
   "langInMainMenu": true,
   "sourceLang": "en",
   "targetLang": "fr",
   "useGoogleTranslate": true
  }
 },
 "nbformat": 4,
 "nbformat_minor": 2
}
