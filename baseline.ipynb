{
 "cells": [
  {
   "cell_type": "code",
   "execution_count": 1,
   "metadata": {
    "ExecuteTime": {
     "end_time": "2020-11-08T14:19:21.268954Z",
     "start_time": "2020-11-08T14:19:17.305738Z"
    }
   },
   "outputs": [
    {
     "name": "stderr",
     "output_type": "stream",
     "text": [
      "/Users/fabiopruneri/Documents/anaconda3/lib/python3.7/site-packages/numpy/lib/arraysetops.py:568: FutureWarning: elementwise comparison failed; returning scalar instead, but in the future will perform elementwise comparison\n",
      "  mask |= (ar1 == a)\n"
     ]
    }
   ],
   "source": [
    "from src.graph import *\n",
    "from src.mdp import *\n",
    "from src.policy import *\n",
    "from src.nyc import *"
   ]
  },
  {
   "cell_type": "code",
   "execution_count": 2,
   "metadata": {
    "ExecuteTime": {
     "end_time": "2020-11-08T14:19:21.273871Z",
     "start_time": "2020-11-08T14:19:21.270870Z"
    }
   },
   "outputs": [],
   "source": [
    "# Simulating the MDP over a finite number of steps\n",
    "#  for a given policy (approximate policy evaluation)\n",
    "\n",
    "mdp = MDP['small']"
   ]
  },
  {
   "cell_type": "markdown",
   "metadata": {},
   "source": [
    "##### policy_random"
   ]
  },
  {
   "cell_type": "code",
   "execution_count": 3,
   "metadata": {
    "ExecuteTime": {
     "end_time": "2020-11-08T14:19:22.508545Z",
     "start_time": "2020-11-08T14:19:22.193627Z"
    }
   },
   "outputs": [
    {
     "name": "stdout",
     "output_type": "stream",
     "text": [
      "Total reward over 10000 steps:  -22982\n",
      "Approx 229.8  pct of avg trip time\n"
     ]
    },
    {
     "data": {
      "text/plain": [
       "-22982"
      ]
     },
     "execution_count": 3,
     "metadata": {},
     "output_type": "execute_result"
    }
   ],
   "source": [
    "# Pick a taxi driver at random, including those that might\n",
    "#  be far away or already completing a query\n",
    "mdp.eval(policy_random, no_iter=10000, verbose_result=True)"
   ]
  },
  {
   "cell_type": "markdown",
   "metadata": {},
   "source": [
    "##### policy_earliest_free"
   ]
  },
  {
   "cell_type": "code",
   "execution_count": 4,
   "metadata": {
    "ExecuteTime": {
     "end_time": "2020-11-08T14:19:23.676938Z",
     "start_time": "2020-11-08T14:19:23.406998Z"
    }
   },
   "outputs": [
    {
     "name": "stdout",
     "output_type": "stream",
     "text": [
      "Total reward over 10000 steps:  -10296\n",
      "Approx 103.0  pct of avg trip time\n"
     ]
    },
    {
     "data": {
      "text/plain": [
       "-10296"
      ]
     },
     "execution_count": 4,
     "metadata": {},
     "output_type": "execute_result"
    }
   ],
   "source": [
    "# Pick a random taxi driver which is free\n",
    "#  (or has the least time remaning before completing current ride)\n",
    "mdp.eval(policy_earliest_free, no_iter=10000, verbose_result=True)"
   ]
  },
  {
   "cell_type": "markdown",
   "metadata": {},
   "source": [
    "##### policy_greedy"
   ]
  },
  {
   "cell_type": "code",
   "execution_count": 5,
   "metadata": {
    "ExecuteTime": {
     "end_time": "2020-11-08T14:19:24.360686Z",
     "start_time": "2020-11-08T14:19:24.024443Z"
    }
   },
   "outputs": [
    {
     "name": "stdout",
     "output_type": "stream",
     "text": [
      "Total reward over 10000 steps:  -5875\n",
      "Approx 58.8  pct of avg trip time\n"
     ]
    },
    {
     "data": {
      "text/plain": [
       "-5875"
      ]
     },
     "execution_count": 5,
     "metadata": {},
     "output_type": "execute_result"
    }
   ],
   "source": [
    "# Greedy policy: pick taxi driver that minimizes immediate cost,\n",
    "#  so minimizes distance from start point + time to complete current query (if busy)\n",
    "mdp.eval(policy_greedy(mdp), no_iter=10000, verbose_result=True)"
   ]
  },
  {
   "cell_type": "markdown",
   "metadata": {},
   "source": [
    "# Table of results for all graphs"
   ]
  },
  {
   "cell_type": "code",
   "execution_count": 2,
   "metadata": {
    "ExecuteTime": {
     "end_time": "2020-11-08T14:18:08.992984Z",
     "start_time": "2020-11-08T14:18:08.991272Z"
    }
   },
   "outputs": [],
   "source": [
    "# Results are in percentage of average trip time\n",
    "# So a value of 20 would mean the customer waits on average 20% of the length of the trip"
   ]
  },
  {
   "cell_type": "code",
   "execution_count": 13,
   "metadata": {
    "ExecuteTime": {
     "end_time": "2020-11-08T14:23:27.025151Z",
     "start_time": "2020-11-08T14:22:38.835431Z"
    }
   },
   "outputs": [
    {
     "name": "stdout",
     "output_type": "stream",
     "text": [
      "MDP  small\n",
      "   policy_random:        228\n",
      "   policy_earliest_free: 102\n",
      "   policy_greedy:        60\n",
      "\n",
      "\n",
      "MDP  medium\n",
      "   policy_random:        211\n",
      "   policy_earliest_free: 100\n",
      "   policy_greedy:        66\n",
      "\n",
      "\n",
      "MDP  large\n",
      "   policy_random:        167\n",
      "   policy_earliest_free: 100\n",
      "   policy_greedy:        59\n",
      "\n",
      "\n",
      "MDP  line\n",
      "   policy_random:        82053\n",
      "   policy_earliest_free: 85244\n",
      "   policy_greedy:        48\n",
      "\n",
      "\n",
      "MDP  complete\n",
      "   policy_random:        156\n",
      "   policy_earliest_free: 100\n",
      "   policy_greedy:        85\n",
      "\n",
      "\n",
      "MDP  nyc\n",
      "   policy_random:        134\n",
      "   policy_earliest_free: 70\n",
      "   policy_greedy:        42\n",
      "\n",
      "\n"
     ]
    }
   ],
   "source": [
    "# Takes 1 minute to run\n",
    "for name, mdp in MDP.items():\n",
    "    print(\"MDP \", name)\n",
    "    print(\"   policy_random:       \", round(mdp.eval(policy_random, no_iter=100000, return_pct_trip=True)))\n",
    "    print(\"   policy_earliest_free:\", round(mdp.eval(policy_earliest_free, no_iter=100000, return_pct_trip=True)))\n",
    "    print(\"   policy_greedy:       \", round(mdp.eval(policy_greedy(mdp), no_iter=100000, return_pct_trip=True)))\n",
    "    print(\"\\n\")"
   ]
  },
  {
   "cell_type": "code",
   "execution_count": 14,
   "metadata": {
    "ExecuteTime": {
     "end_time": "2020-11-08T14:25:54.784998Z",
     "start_time": "2020-11-08T14:25:54.743380Z"
    }
   },
   "outputs": [
    {
     "ename": "TypeError",
     "evalue": "raw_csv_to_queries() missing 1 required positional argument: 'path'",
     "output_type": "error",
     "traceback": [
      "\u001b[0;31m---------------------------------------------------------------------------\u001b[0m",
      "\u001b[0;31mTypeError\u001b[0m                                 Traceback (most recent call last)",
      "\u001b[0;32m<ipython-input-14-ece08fdf6854>\u001b[0m in \u001b[0;36m<module>\u001b[0;34m\u001b[0m\n\u001b[0;32m----> 1\u001b[0;31m \u001b[0mraw_csv_to_queries\u001b[0m\u001b[0;34m(\u001b[0m\u001b[0;34m)\u001b[0m\u001b[0;34m\u001b[0m\u001b[0;34m\u001b[0m\u001b[0m\n\u001b[0m",
      "\u001b[0;31mTypeError\u001b[0m: raw_csv_to_queries() missing 1 required positional argument: 'path'"
     ]
    }
   ],
   "source": [
    "raw_csv_to_queries()"
   ]
  },
  {
   "cell_type": "code",
   "execution_count": null,
   "metadata": {},
   "outputs": [],
   "source": []
  }
 ],
 "metadata": {
  "kernelspec": {
   "display_name": "Python 3",
   "language": "python",
   "name": "python3"
  },
  "language_info": {
   "codemirror_mode": {
    "name": "ipython",
    "version": 3
   },
   "file_extension": ".py",
   "mimetype": "text/x-python",
   "name": "python",
   "nbconvert_exporter": "python",
   "pygments_lexer": "ipython3",
   "version": "3.7.4"
  },
  "latex_envs": {
   "LaTeX_envs_menu_present": true,
   "autoclose": true,
   "autocomplete": true,
   "bibliofile": "biblio.bib",
   "cite_by": "apalike",
   "current_citInitial": 1,
   "eqLabelWithNumbers": true,
   "eqNumInitial": 1,
   "hotkeys": {
    "equation": "Ctrl-E",
    "itemize": "Ctrl-I"
   },
   "labels_anchors": false,
   "latex_user_defs": false,
   "report_style_numbering": false,
   "user_envs_cfg": false
  },
  "nbTranslate": {
   "displayLangs": [
    "*"
   ],
   "hotkey": "alt-t",
   "langInMainMenu": true,
   "sourceLang": "en",
   "targetLang": "fr",
   "useGoogleTranslate": true
  }
 },
 "nbformat": 4,
 "nbformat_minor": 2
}
