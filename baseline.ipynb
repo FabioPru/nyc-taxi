{
 "cells": [
  {
   "cell_type": "code",
   "execution_count": 1,
   "metadata": {
    "ExecuteTime": {
     "end_time": "2020-11-08T15:02:49.093918Z",
     "start_time": "2020-11-08T15:02:44.813669Z"
    }
   },
   "outputs": [
    {
     "name": "stderr",
     "output_type": "stream",
     "text": [
      "/Users/fabiopruneri/Documents/anaconda3/lib/python3.7/site-packages/numpy/lib/arraysetops.py:568: FutureWarning: elementwise comparison failed; returning scalar instead, but in the future will perform elementwise comparison\n",
      "  mask |= (ar1 == a)\n"
     ]
    }
   ],
   "source": [
    "from src.graph import *\n",
    "from src.mdp import *\n",
    "from src.policy import *\n",
    "from src.nyc import *\n",
    "\n",
    "import matplotlib.pyplot as plt\n",
    "import numpy as np"
   ]
  },
  {
   "cell_type": "code",
   "execution_count": 3,
   "metadata": {
    "ExecuteTime": {
     "end_time": "2020-11-08T15:03:01.808316Z",
     "start_time": "2020-11-08T15:03:01.806143Z"
    }
   },
   "outputs": [],
   "source": [
    "# Simulating the MDP over a finite number of steps\n",
    "#  for a given policy (approximate policy evaluation)\n",
    "\n",
    "mdp = MDP['small']"
   ]
  },
  {
   "cell_type": "markdown",
   "metadata": {},
   "source": [
    "##### policy_random"
   ]
  },
  {
   "cell_type": "code",
   "execution_count": 5,
   "metadata": {
    "ExecuteTime": {
     "end_time": "2020-11-08T15:03:08.377211Z",
     "start_time": "2020-11-08T15:03:08.075018Z"
    }
   },
   "outputs": [
    {
     "name": "stdout",
     "output_type": "stream",
     "text": [
      "Total reward over 10000 steps:  -22328\n",
      "Approx 223.3  pct of avg trip time\n"
     ]
    },
    {
     "data": {
      "text/plain": [
       "-22328"
      ]
     },
     "execution_count": 5,
     "metadata": {},
     "output_type": "execute_result"
    }
   ],
   "source": [
    "# Pick a taxi driver at random, including those that might\n",
    "#  be far away or already completing a query\n",
    "mdp.eval(policy_random, no_iter=10000, verbose_result=True)"
   ]
  },
  {
   "cell_type": "markdown",
   "metadata": {},
   "source": [
    "##### policy_earliest_free"
   ]
  },
  {
   "cell_type": "code",
   "execution_count": 6,
   "metadata": {
    "ExecuteTime": {
     "end_time": "2020-11-08T15:03:10.686201Z",
     "start_time": "2020-11-08T15:03:10.379848Z"
    }
   },
   "outputs": [
    {
     "name": "stdout",
     "output_type": "stream",
     "text": [
      "Total reward over 10000 steps:  -10185\n",
      "Approx 101.8  pct of avg trip time\n"
     ]
    },
    {
     "data": {
      "text/plain": [
       "-10185"
      ]
     },
     "execution_count": 6,
     "metadata": {},
     "output_type": "execute_result"
    }
   ],
   "source": [
    "# Pick a random taxi driver which is free\n",
    "#  (or has the least time remaning before completing current ride)\n",
    "mdp.eval(policy_earliest_free, no_iter=10000, verbose_result=True)"
   ]
  },
  {
   "cell_type": "markdown",
   "metadata": {},
   "source": [
    "##### policy_greedy"
   ]
  },
  {
   "cell_type": "code",
   "execution_count": 5,
   "metadata": {
    "ExecuteTime": {
     "end_time": "2020-11-08T14:19:24.360686Z",
     "start_time": "2020-11-08T14:19:24.024443Z"
    }
   },
   "outputs": [
    {
     "name": "stdout",
     "output_type": "stream",
     "text": [
      "Total reward over 10000 steps:  -5875\n",
      "Approx 58.8  pct of avg trip time\n"
     ]
    },
    {
     "data": {
      "text/plain": [
       "-5875"
      ]
     },
     "execution_count": 5,
     "metadata": {},
     "output_type": "execute_result"
    }
   ],
   "source": [
    "# Greedy policy: pick taxi driver that minimizes immediate cost,\n",
    "#  so minimizes distance from start point + time to complete current query (if busy)\n",
    "mdp.eval(policy_greedy(mdp), no_iter=10000, verbose_result=True)"
   ]
  },
  {
   "cell_type": "markdown",
   "metadata": {},
   "source": [
    "# Table of results for all graphs"
   ]
  },
  {
   "cell_type": "code",
   "execution_count": 2,
   "metadata": {
    "ExecuteTime": {
     "end_time": "2020-11-08T14:18:08.992984Z",
     "start_time": "2020-11-08T14:18:08.991272Z"
    }
   },
   "outputs": [],
   "source": [
    "# Results are in percentage of average trip time\n",
    "# So a value of 20 would mean the customer waits on average 20% of the length of the trip"
   ]
  },
  {
   "cell_type": "code",
   "execution_count": 11,
   "metadata": {
    "ExecuteTime": {
     "end_time": "2020-11-08T15:45:56.121096Z",
     "start_time": "2020-11-08T15:44:06.497848Z"
    }
   },
   "outputs": [
    {
     "name": "stdout",
     "output_type": "stream",
     "text": [
      "MDP  small\n",
      "   policy_random:        225\n",
      "   policy_earliest_free: 102\n",
      "   policy_greedy:        60\n",
      "\n",
      "\n",
      "MDP  medium\n",
      "   policy_random:        192\n",
      "   policy_earliest_free: 100\n",
      "   policy_greedy:        61\n",
      "\n",
      "\n",
      "MDP  large\n",
      "   policy_random:        168\n",
      "   policy_earliest_free: 100\n",
      "   policy_greedy:        60\n",
      "\n",
      "\n",
      "MDP  line\n",
      "   policy_random:        83618\n",
      "   policy_earliest_free: 81003\n",
      "   policy_greedy:        49\n",
      "\n",
      "\n",
      "MDP  complete\n",
      "   policy_random:        157\n",
      "   policy_earliest_free: 100\n",
      "   policy_greedy:        85\n",
      "\n",
      "\n",
      "MDP  nyc\n",
      "   policy_random:        120\n",
      "   policy_earliest_free: 71\n",
      "   policy_greedy:        45\n",
      "\n",
      "\n"
     ]
    }
   ],
   "source": [
    "# Takes 1 minute to run\n",
    "baselines = {}\n",
    "for name, mdp in MDP.items():\n",
    "    print(\"MDP \", name)\n",
    "    baselines[name] = {'random': mdp.eval(policy_random, no_iter=100000, return_pct_trip=True),\n",
    "                       'earliest': mdp.eval(policy_earliest_free, no_iter=100000, return_pct_trip=True),\n",
    "                       'greedy': mdp.eval(policy_greedy(mdp), no_iter=100000, return_pct_trip=True)}\n",
    "    print(\"   policy_random:       \", round(mdp.eval(policy_random, no_iter=100000, return_pct_trip=True)))\n",
    "    print(\"   policy_earliest_free:\", round(mdp.eval(policy_earliest_free, no_iter=100000, return_pct_trip=True)))\n",
    "    print(\"   policy_greedy:       \", round(mdp.eval(policy_greedy(mdp), no_iter=100000, return_pct_trip=True)))\n",
    "    print(\"\\n\")"
   ]
  },
  {
   "cell_type": "code",
   "execution_count": 18,
   "metadata": {
    "ExecuteTime": {
     "end_time": "2020-11-08T15:48:34.018308Z",
     "start_time": "2020-11-08T15:48:33.867799Z"
    }
   },
   "outputs": [
    {
     "data": {
      "image/png": "[encoded data removed]",
      "text/plain": [
       "<Figure size 576x288 with 1 Axes>"
      ]
     },
     "metadata": {
      "needs_background": "light"
     },
     "output_type": "display_data"
    },
    {
     "data": {
      "text/plain": [
       "<Figure size 432x288 with 0 Axes>"
      ]
     },
     "metadata": {},
     "output_type": "display_data"
    }
   ],
   "source": [
    "#https://python-graph-gallery.com/11-grouped-barplot/\n",
    "# set width of bar\n",
    "plt.figure(figsize=(8, 4))\n",
    "barWidth = 0.25\n",
    " \n",
    "# set height of bar\n",
    "bars1 = [baselines[key]['random'] for key in MDP.keys()]\n",
    "bars2 = [baselines[key]['earliest'] for key in MDP.keys()]\n",
    "bars3 = [baselines[key]['greedy'] for key in MDP.keys()]\n",
    " \n",
    "# Set position of bar on X axis\n",
    "r1 = np.arange(len(bars1))\n",
    "r2 = [x + barWidth for x in r1]\n",
    "r3 = [x + barWidth for x in r2]\n",
    " \n",
    "# Make the plot\n",
    "plt.bar(r1, bars1, color='#7f6d5f', width=barWidth, edgecolor='white', label='random')\n",
    "plt.bar(r2, bars2, color='#557f2d', width=barWidth, edgecolor='white', label='earliest')\n",
    "plt.bar(r3, bars3, color='#2d7f5e', width=barWidth, edgecolor='white', label='greedy')\n",
    " \n",
    "# Add xticks on the middle of the group bars\n",
    "plt.title(\"Wait time for baseline policies\")\n",
    "plt.xlabel('Graph', fontweight='bold')\n",
    "plt.ylabel(\"Wait time, as pct of trip time\")\n",
    "plt.xticks([r + barWidth for r in range(len(bars1))], MDP.keys())\n",
    "plt.ylim((0, 250))\n",
    " \n",
    "# Create legend & Show graphic\n",
    "plt.legend()\n",
    "plt.show()\n",
    "plt.savefig(\"img/baselines.png\")"
   ]
  },
  {
   "cell_type": "code",
   "execution_count": 12,
   "metadata": {
    "ExecuteTime": {
     "end_time": "2020-11-08T15:45:56.637102Z",
     "start_time": "2020-11-08T15:45:56.630365Z"
    }
   },
   "outputs": [
    {
     "data": {
      "text/plain": [
       "{'small': {'random': 225.605, 'earliest': 101.877, 'greedy': 59.988},\n",
       " 'medium': {'random': 191.54177215189875,\n",
       "  'earliest': 99.91518987341773,\n",
       "  'greedy': 61.20569620253164},\n",
       " 'large': {'random': 167.3963208003873,\n",
       "  'earliest': 100.19969340003227,\n",
       "  'greedy': 59.95118605776989},\n",
       " 'line': {'random': 77635.43714285715,\n",
       "  'earliest': 83798.26105263157,\n",
       "  'greedy': 49.11383458646617},\n",
       " 'complete': {'random': 156.27368421052634,\n",
       "  'earliest': 100.03368421052632,\n",
       "  'greedy': 85.28526315789475},\n",
       " 'nyc': {'random': 143.30087355396842,\n",
       "  'earliest': 69.76467397646111,\n",
       "  'greedy': 42.952375817322206}}"
      ]
     },
     "execution_count": 12,
     "metadata": {},
     "output_type": "execute_result"
    }
   ],
   "source": [
    "baselines"
   ]
  },
  {
   "cell_type": "markdown",
   "metadata": {
    "ExecuteTime": {
     "end_time": "2020-11-08T14:25:54.784998Z",
     "start_time": "2020-11-08T14:25:54.743380Z"
    }
   },
   "source": [
    "# Different number of drivers for nyc"
   ]
  },
  {
   "cell_type": "code",
   "execution_count": 15,
   "metadata": {
    "ExecuteTime": {
     "end_time": "2020-11-08T14:45:23.850378Z",
     "start_time": "2020-11-08T14:45:23.846823Z"
    }
   },
   "outputs": [
    {
     "data": {
      "text/plain": [
       "13"
      ]
     },
     "execution_count": 15,
     "metadata": {},
     "output_type": "execute_result"
    }
   ],
   "source": [
    "MDP['nyc'].K # Default value"
   ]
  },
  {
   "cell_type": "code",
   "execution_count": 7,
   "metadata": {
    "ExecuteTime": {
     "end_time": "2020-11-08T15:03:33.846439Z",
     "start_time": "2020-11-08T15:03:22.093217Z"
    }
   },
   "outputs": [],
   "source": [
    "Ks = list(range(7, 31))\n",
    "wait_times = {}\n",
    "\n",
    "for k in Ks:\n",
    "    mdp = MarkowDP(G['nyc'], K=k, queries=nyc_queries)\n",
    "    wait_times[k] = {'random': mdp.eval(policy_random, no_iter=10000, return_pct_trip=True),\n",
    "                     'earliest': mdp.eval(policy_earliest_free, no_iter=10000, return_pct_trip=True),\n",
    "                     'greedy': mdp.eval(policy_greedy(mdp), no_iter=10000, return_pct_trip=True)}"
   ]
  },
  {
   "cell_type": "code",
   "execution_count": 10,
   "metadata": {
    "ExecuteTime": {
     "end_time": "2020-11-08T15:09:00.593010Z",
     "start_time": "2020-11-08T15:09:00.434992Z"
    }
   },
   "outputs": [
    {
     "data": {
      "image/png": "[encoded data removed]",
      "text/plain": [
       "<Figure size 576x288 with 1 Axes>"
      ]
     },
     "metadata": {
      "needs_background": "light"
     },
     "output_type": "display_data"
    }
   ],
   "source": [
    "plt.figure(figsize=(8, 4))\n",
    "\n",
    "print_K = {'random': list(range(14, 31)),\n",
    "           'earliest': list(range(7, 31)),\n",
    "           'greedy': list(range(7, 31))}\n",
    "for policy in ['random', 'earliest', 'greedy']:\n",
    "    plt.plot(print_K[policy], [wait_times[k][policy] for k in print_K[policy]], label=policy)\n",
    "    \n",
    "plt.xticks(print_K['greedy'][::5], [str(k) for k in print_K['greedy'][::5]])\n",
    "plt.title(\"Wait time as function of number of drivers, different baseline policies\")\n",
    "plt.xlabel(\"Number of taxi drivers\")\n",
    "plt.ylabel(\"Wait time, as pct of trip time\")\n",
    "plt.legend()\n",
    "\n",
    "plt.savefig(\"img/baselines_vs_K.png\")"
   ]
  },
  {
   "cell_type": "code",
   "execution_count": null,
   "metadata": {},
   "outputs": [],
   "source": []
  }
 ],
 "metadata": {
  "kernelspec": {
   "display_name": "Python 3",
   "language": "python",
   "name": "python3"
  },
  "language_info": {
   "codemirror_mode": {
    "name": "ipython",
    "version": 3
   },
   "file_extension": ".py",
   "mimetype": "text/x-python",
   "name": "python",
   "nbconvert_exporter": "python",
   "pygments_lexer": "ipython3",
   "version": "3.7.4"
  },
  "latex_envs": {
   "LaTeX_envs_menu_present": true,
   "autoclose": true,
   "autocomplete": true,
   "bibliofile": "biblio.bib",
   "cite_by": "apalike",
   "current_citInitial": 1,
   "eqLabelWithNumbers": true,
   "eqNumInitial": 1,
   "hotkeys": {
    "equation": "Ctrl-E",
    "itemize": "Ctrl-I"
   },
   "labels_anchors": false,
   "latex_user_defs": false,
   "report_style_numbering": false,
   "user_envs_cfg": false
  },
  "nbTranslate": {
   "displayLangs": [
    "*"
   ],
   "hotkey": "alt-t",
   "langInMainMenu": true,
   "sourceLang": "en",
   "targetLang": "fr",
   "useGoogleTranslate": true
  }
 },
 "nbformat": 4,
 "nbformat_minor": 2
}
